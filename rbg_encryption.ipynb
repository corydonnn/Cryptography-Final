{
 "cells": [
  {
   "cell_type": "code",
   "execution_count": 1,
   "id": "275592d2",
   "metadata": {},
   "outputs": [
    {
     "data": {
      "text/plain": [
       "'\\n  \\n# Create an image as input: \\ninput_image = Image.new(mode=\"RGB\", size=(400, 400), \\n                        color=\"blue\") \\n  \\n# save the image as \"input.png\" \\n#(not mandatory) \\ninput_image.save(\"input\", format=\"png\") \\n  \\n# Extracting pixel map: \\npixel_map = input_image.load() \\n  \\n# Extracting the width and height \\n# of the image: \\nwidth, height = input_image.size \\n\\n# The following loop will create a cross \\n# of color blue. \\nfor i in range(width): \\n    \\n    # RGB value of Blue. \\n    pixel_map[i, i] = (0, 0, 255) \\n    pixel_map[i, width-i-1] = (0, 0, 255) \\n  \\n# Saving the final output \\n# as \"output.png\": \\ninput_image.save(\"output\", format=\"png\") \\ninput_image.show()\\n# use input_image.show() to see the image on the \\n# output screen. '"
      ]
     },
     "execution_count": 1,
     "metadata": {},
     "output_type": "execute_result"
    }
   ],
   "source": [
    "\n",
    "raw_input = \"121 111 117 32 102 111 117 110 100 32 105 116 33 32 121 105 112 112 101 101 33 32 111 110 101 32 104 117 110 100 114 101 100 32 109 105 108 108 105 111 110 32 100 111 108 108 97 114 115 32 116 111 32 121 111 117 32 58 51 32 104 116 116 112 115 58 47 47 99 114 101 97 116 105 111 110 115 46 109 116 100 118 46 109 101 47 119 97 116 99 104 63 118 61 116 104 101 115 101 99 114 101 116 45 115 109 105 108 101 115 99 111 108 111 110 116 104 114 101 101\"\n",
    "testlist = raw_input.split(\" \") #splits the string into a list of strings\n",
    "testlist = [int(i) for i in testlist] #converts the list of strings into a list of integers #awesome shorthand discovered to me by copilot\n",
    "\n",
    "\n",
    "def group_values(values): #passes a list of integers\n",
    "    grouped_values = []\n",
    "    count = 0\n",
    "    working_values = []\n",
    "    for i in range(len(values)):\n",
    "        while len(values) % 4 != 0:\n",
    "            values.append(32) #ascii code for space, to add spaces at the end of message\n",
    "        count += 1\n",
    "        if count == 4:\n",
    "            working_values.append(values[i])\n",
    "            grouped_values.append(working_values)\n",
    "            working_values = []\n",
    "            count = 0\n",
    "        else:\n",
    "            working_values.append(values[i])\n",
    "            \n",
    "            \n",
    "    return grouped_values #returns a list of lists, each containing 3 integers\n",
    "\n",
    "grouped_list = group_values(testlist) #groups the list of integers into a list of lists, each containing 3 integers\n",
    "\n",
    "import PIL\n",
    "from PIL import Image \n",
    "\n",
    "input_image = Image.new(mode=\"RGBA\", size=(len(grouped_list)*30, len(grouped_list)*30),\n",
    "                        color=\"black\")\n",
    "\n",
    "pixel_map = input_image.load() #loads the image into a pixel map\n",
    "width, height = input_image.size #gets the width and height of the image\n",
    "for i in range(len(grouped_list)):\n",
    "    pixel_map[i, 0] = (grouped_list[i][0], grouped_list[i][1], grouped_list[i][2], grouped_list[i][3]) #sets the pixel color to the RGB values in the list of lists #thank you copilot i love you\n",
    "input_image.save(\"finalfinfalfinal\", format=\"png\") \n",
    "input_image.show()\n",
    "\n",
    "\n",
    "#image stuff stolen from https://www.geeksforgeeks.org/python-pil-image-load-method/\n",
    "\n",
    "\"\"\"\n",
    "  \n",
    "# Create an image as input: \n",
    "input_image = Image.new(mode=\"RGB\", size=(400, 400), \n",
    "                        color=\"blue\") \n",
    "  \n",
    "# save the image as \"input.png\" \n",
    "#(not mandatory) \n",
    "input_image.save(\"input\", format=\"png\") \n",
    "  \n",
    "# Extracting pixel map: \n",
    "pixel_map = input_image.load() \n",
    "  \n",
    "# Extracting the width and height \n",
    "# of the image: \n",
    "width, height = input_image.size \n",
    "\n",
    "# The following loop will create a cross \n",
    "# of color blue. \n",
    "for i in range(width): \n",
    "    \n",
    "    # RGB value of Blue. \n",
    "    pixel_map[i, i] = (0, 0, 255) \n",
    "    pixel_map[i, width-i-1] = (0, 0, 255) \n",
    "  \n",
    "# Saving the final output \n",
    "# as \"output.png\": \n",
    "input_image.save(\"output\", format=\"png\") \n",
    "input_image.show()\n",
    "# use input_image.show() to see the image on the \n",
    "# output screen. \"\"\"\n"
   ]
  }
 ],
 "metadata": {
  "kernelspec": {
   "display_name": "Python 3",
   "language": "python",
   "name": "python3"
  },
  "language_info": {
   "codemirror_mode": {
    "name": "ipython",
    "version": 3
   },
   "file_extension": ".py",
   "mimetype": "text/x-python",
   "name": "python",
   "nbconvert_exporter": "python",
   "pygments_lexer": "ipython3",
   "version": "3.11.9"
  }
 },
 "nbformat": 4,
 "nbformat_minor": 5
}
